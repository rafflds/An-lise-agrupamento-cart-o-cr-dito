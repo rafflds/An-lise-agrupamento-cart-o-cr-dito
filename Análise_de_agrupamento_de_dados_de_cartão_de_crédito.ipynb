{
  "nbformat": 4,
  "nbformat_minor": 0,
  "metadata": {
    "colab": {
      "provenance": [],
      "authorship_tag": "ABX9TyP5wROunJTEO/whXiHbPyK4",
      "include_colab_link": true
    },
    "kernelspec": {
      "name": "python3",
      "display_name": "Python 3"
    },
    "language_info": {
      "name": "python"
    }
  },
  "cells": [
    {
      "cell_type": "markdown",
      "metadata": {
        "id": "view-in-github",
        "colab_type": "text"
      },
      "source": [
        "<a href=\"https://colab.research.google.com/github/rafflds/An-lise-agrupamento-cart-o-cr-dito/blob/main/An%C3%A1lise_de_agrupamento_de_dados_de_cart%C3%A3o_de_cr%C3%A9dito.ipynb\" target=\"_parent\"><img src=\"https://colab.research.google.com/assets/colab-badge.svg\" alt=\"Open In Colab\"/></a>"
      ]
    },
    {
      "cell_type": "markdown",
      "source": [
        "# <font color=teal>Machine Learning - Clustering\n"
      ],
      "metadata": {
        "id": "jS0Mv0Ag2gYt"
      }
    },
    {
      "cell_type": "code",
      "source": [
        "from google.colab import drive\n",
        "drive.mount('/content/drive')"
      ],
      "metadata": {
        "colab": {
          "base_uri": "https://localhost:8080/"
        },
        "id": "EMBBsn9g1Bec",
        "outputId": "6ea6ce9e-7c48-4ac7-f813-9c910b9fc84c"
      },
      "execution_count": null,
      "outputs": [
        {
          "output_type": "stream",
          "name": "stdout",
          "text": [
            "Drive already mounted at /content/drive; to attempt to forcibly remount, call drive.mount(\"/content/drive\", force_remount=True).\n"
          ]
        }
      ]
    },
    {
      "cell_type": "code",
      "source": [
        "# versão do Seaborn\n",
        "print(sns.__version__)\n",
        "# Instalar\n",
        "!pip install seaborn == 0.9.0"
      ],
      "metadata": {
        "id": "F-hWp8EYHlKO"
      },
      "execution_count": null,
      "outputs": []
    },
    {
      "cell_type": "markdown",
      "source": [
        "## Análise Exploratóra"
      ],
      "metadata": {
        "id": "Bb_GNOOm24WX"
      }
    },
    {
      "cell_type": "markdown",
      "source": [
        "### Imports"
      ],
      "metadata": {
        "id": "TELUDC0A1fzE"
      }
    },
    {
      "cell_type": "code",
      "source": [
        "import pandas as pd\n",
        "import seaborn as sns\n",
        "import numpy as np"
      ],
      "metadata": {
        "id": "042mFfsR1Wcd"
      },
      "execution_count": null,
      "outputs": []
    },
    {
      "cell_type": "markdown",
      "source": [
        "### Lendo o dataset"
      ],
      "metadata": {
        "id": "RALuRnmi1h9U"
      }
    },
    {
      "cell_type": "code",
      "source": [
        "df = pd.read_csv('/content/drive/MyDrive/DataScience/Dados/CC GENERAL.csv')\n",
        "df.drop(columns=['CUST_ID', 'TENURE'], inplace=True)\n",
        "df.head()"
      ],
      "metadata": {
        "colab": {
          "base_uri": "https://localhost:8080/"
        },
        "id": "rgk5rq1_1Dnc",
        "outputId": "b61caa1a-b0c8-45a6-b582-6cc1c5cb6f33"
      },
      "execution_count": null,
      "outputs": [
        {
          "output_type": "execute_result",
          "data": {
            "text/plain": [
              "       BALANCE  BALANCE_FREQUENCY  PURCHASES  ONEOFF_PURCHASES  \\\n",
              "0    40.900749           0.818182      95.40              0.00   \n",
              "1  3202.467416           0.909091       0.00              0.00   \n",
              "2  2495.148862           1.000000     773.17            773.17   \n",
              "3  1666.670542           0.636364    1499.00           1499.00   \n",
              "4   817.714335           1.000000      16.00             16.00   \n",
              "\n",
              "   INSTALLMENTS_PURCHASES  CASH_ADVANCE  PURCHASES_FREQUENCY  \\\n",
              "0                    95.4      0.000000             0.166667   \n",
              "1                     0.0   6442.945483             0.000000   \n",
              "2                     0.0      0.000000             1.000000   \n",
              "3                     0.0    205.788017             0.083333   \n",
              "4                     0.0      0.000000             0.083333   \n",
              "\n",
              "   ONEOFF_PURCHASES_FREQUENCY  PURCHASES_INSTALLMENTS_FREQUENCY  \\\n",
              "0                    0.000000                          0.083333   \n",
              "1                    0.000000                          0.000000   \n",
              "2                    1.000000                          0.000000   \n",
              "3                    0.083333                          0.000000   \n",
              "4                    0.083333                          0.000000   \n",
              "\n",
              "   CASH_ADVANCE_FREQUENCY  CASH_ADVANCE_TRX  PURCHASES_TRX  CREDIT_LIMIT  \\\n",
              "0                0.000000                 0              2        1000.0   \n",
              "1                0.250000                 4              0        7000.0   \n",
              "2                0.000000                 0             12        7500.0   \n",
              "3                0.083333                 1              1        7500.0   \n",
              "4                0.000000                 0              1        1200.0   \n",
              "\n",
              "      PAYMENTS  MINIMUM_PAYMENTS  PRC_FULL_PAYMENT  \n",
              "0   201.802084        139.509787          0.000000  \n",
              "1  4103.032597       1072.340217          0.222222  \n",
              "2   622.066742        627.284787          0.000000  \n",
              "3     0.000000               NaN          0.000000  \n",
              "4   678.334763        244.791237          0.000000  "
            ],
            "text/html": [
              "\n",
              "  <div id=\"df-cc50722f-21f6-4595-b736-4e07596ba5a8\">\n",
              "    <div class=\"colab-df-container\">\n",
              "      <div>\n",
              "<style scoped>\n",
              "    .dataframe tbody tr th:only-of-type {\n",
              "        vertical-align: middle;\n",
              "    }\n",
              "\n",
              "    .dataframe tbody tr th {\n",
              "        vertical-align: top;\n",
              "    }\n",
              "\n",
              "    .dataframe thead th {\n",
              "        text-align: right;\n",
              "    }\n",
              "</style>\n",
              "<table border=\"1\" class=\"dataframe\">\n",
              "  <thead>\n",
              "    <tr style=\"text-align: right;\">\n",
              "      <th></th>\n",
              "      <th>BALANCE</th>\n",
              "      <th>BALANCE_FREQUENCY</th>\n",
              "      <th>PURCHASES</th>\n",
              "      <th>ONEOFF_PURCHASES</th>\n",
              "      <th>INSTALLMENTS_PURCHASES</th>\n",
              "      <th>CASH_ADVANCE</th>\n",
              "      <th>PURCHASES_FREQUENCY</th>\n",
              "      <th>ONEOFF_PURCHASES_FREQUENCY</th>\n",
              "      <th>PURCHASES_INSTALLMENTS_FREQUENCY</th>\n",
              "      <th>CASH_ADVANCE_FREQUENCY</th>\n",
              "      <th>CASH_ADVANCE_TRX</th>\n",
              "      <th>PURCHASES_TRX</th>\n",
              "      <th>CREDIT_LIMIT</th>\n",
              "      <th>PAYMENTS</th>\n",
              "      <th>MINIMUM_PAYMENTS</th>\n",
              "      <th>PRC_FULL_PAYMENT</th>\n",
              "    </tr>\n",
              "  </thead>\n",
              "  <tbody>\n",
              "    <tr>\n",
              "      <th>0</th>\n",
              "      <td>40.900749</td>\n",
              "      <td>0.818182</td>\n",
              "      <td>95.40</td>\n",
              "      <td>0.00</td>\n",
              "      <td>95.4</td>\n",
              "      <td>0.000000</td>\n",
              "      <td>0.166667</td>\n",
              "      <td>0.000000</td>\n",
              "      <td>0.083333</td>\n",
              "      <td>0.000000</td>\n",
              "      <td>0</td>\n",
              "      <td>2</td>\n",
              "      <td>1000.0</td>\n",
              "      <td>201.802084</td>\n",
              "      <td>139.509787</td>\n",
              "      <td>0.000000</td>\n",
              "    </tr>\n",
              "    <tr>\n",
              "      <th>1</th>\n",
              "      <td>3202.467416</td>\n",
              "      <td>0.909091</td>\n",
              "      <td>0.00</td>\n",
              "      <td>0.00</td>\n",
              "      <td>0.0</td>\n",
              "      <td>6442.945483</td>\n",
              "      <td>0.000000</td>\n",
              "      <td>0.000000</td>\n",
              "      <td>0.000000</td>\n",
              "      <td>0.250000</td>\n",
              "      <td>4</td>\n",
              "      <td>0</td>\n",
              "      <td>7000.0</td>\n",
              "      <td>4103.032597</td>\n",
              "      <td>1072.340217</td>\n",
              "      <td>0.222222</td>\n",
              "    </tr>\n",
              "    <tr>\n",
              "      <th>2</th>\n",
              "      <td>2495.148862</td>\n",
              "      <td>1.000000</td>\n",
              "      <td>773.17</td>\n",
              "      <td>773.17</td>\n",
              "      <td>0.0</td>\n",
              "      <td>0.000000</td>\n",
              "      <td>1.000000</td>\n",
              "      <td>1.000000</td>\n",
              "      <td>0.000000</td>\n",
              "      <td>0.000000</td>\n",
              "      <td>0</td>\n",
              "      <td>12</td>\n",
              "      <td>7500.0</td>\n",
              "      <td>622.066742</td>\n",
              "      <td>627.284787</td>\n",
              "      <td>0.000000</td>\n",
              "    </tr>\n",
              "    <tr>\n",
              "      <th>3</th>\n",
              "      <td>1666.670542</td>\n",
              "      <td>0.636364</td>\n",
              "      <td>1499.00</td>\n",
              "      <td>1499.00</td>\n",
              "      <td>0.0</td>\n",
              "      <td>205.788017</td>\n",
              "      <td>0.083333</td>\n",
              "      <td>0.083333</td>\n",
              "      <td>0.000000</td>\n",
              "      <td>0.083333</td>\n",
              "      <td>1</td>\n",
              "      <td>1</td>\n",
              "      <td>7500.0</td>\n",
              "      <td>0.000000</td>\n",
              "      <td>NaN</td>\n",
              "      <td>0.000000</td>\n",
              "    </tr>\n",
              "    <tr>\n",
              "      <th>4</th>\n",
              "      <td>817.714335</td>\n",
              "      <td>1.000000</td>\n",
              "      <td>16.00</td>\n",
              "      <td>16.00</td>\n",
              "      <td>0.0</td>\n",
              "      <td>0.000000</td>\n",
              "      <td>0.083333</td>\n",
              "      <td>0.083333</td>\n",
              "      <td>0.000000</td>\n",
              "      <td>0.000000</td>\n",
              "      <td>0</td>\n",
              "      <td>1</td>\n",
              "      <td>1200.0</td>\n",
              "      <td>678.334763</td>\n",
              "      <td>244.791237</td>\n",
              "      <td>0.000000</td>\n",
              "    </tr>\n",
              "  </tbody>\n",
              "</table>\n",
              "</div>\n",
              "      <button class=\"colab-df-convert\" onclick=\"convertToInteractive('df-cc50722f-21f6-4595-b736-4e07596ba5a8')\"\n",
              "              title=\"Convert this dataframe to an interactive table.\"\n",
              "              style=\"display:none;\">\n",
              "        \n",
              "  <svg xmlns=\"http://www.w3.org/2000/svg\" height=\"24px\"viewBox=\"0 0 24 24\"\n",
              "       width=\"24px\">\n",
              "    <path d=\"M0 0h24v24H0V0z\" fill=\"none\"/>\n",
              "    <path d=\"M18.56 5.44l.94 2.06.94-2.06 2.06-.94-2.06-.94-.94-2.06-.94 2.06-2.06.94zm-11 1L8.5 8.5l.94-2.06 2.06-.94-2.06-.94L8.5 2.5l-.94 2.06-2.06.94zm10 10l.94 2.06.94-2.06 2.06-.94-2.06-.94-.94-2.06-.94 2.06-2.06.94z\"/><path d=\"M17.41 7.96l-1.37-1.37c-.4-.4-.92-.59-1.43-.59-.52 0-1.04.2-1.43.59L10.3 9.45l-7.72 7.72c-.78.78-.78 2.05 0 2.83L4 21.41c.39.39.9.59 1.41.59.51 0 1.02-.2 1.41-.59l7.78-7.78 2.81-2.81c.8-.78.8-2.07 0-2.86zM5.41 20L4 18.59l7.72-7.72 1.47 1.35L5.41 20z\"/>\n",
              "  </svg>\n",
              "      </button>\n",
              "      \n",
              "  <style>\n",
              "    .colab-df-container {\n",
              "      display:flex;\n",
              "      flex-wrap:wrap;\n",
              "      gap: 12px;\n",
              "    }\n",
              "\n",
              "    .colab-df-convert {\n",
              "      background-color: #E8F0FE;\n",
              "      border: none;\n",
              "      border-radius: 50%;\n",
              "      cursor: pointer;\n",
              "      display: none;\n",
              "      fill: #1967D2;\n",
              "      height: 32px;\n",
              "      padding: 0 0 0 0;\n",
              "      width: 32px;\n",
              "    }\n",
              "\n",
              "    .colab-df-convert:hover {\n",
              "      background-color: #E2EBFA;\n",
              "      box-shadow: 0px 1px 2px rgba(60, 64, 67, 0.3), 0px 1px 3px 1px rgba(60, 64, 67, 0.15);\n",
              "      fill: #174EA6;\n",
              "    }\n",
              "\n",
              "    [theme=dark] .colab-df-convert {\n",
              "      background-color: #3B4455;\n",
              "      fill: #D2E3FC;\n",
              "    }\n",
              "\n",
              "    [theme=dark] .colab-df-convert:hover {\n",
              "      background-color: #434B5C;\n",
              "      box-shadow: 0px 1px 3px 1px rgba(0, 0, 0, 0.15);\n",
              "      filter: drop-shadow(0px 1px 2px rgba(0, 0, 0, 0.3));\n",
              "      fill: #FFFFFF;\n",
              "    }\n",
              "  </style>\n",
              "\n",
              "      <script>\n",
              "        const buttonEl =\n",
              "          document.querySelector('#df-cc50722f-21f6-4595-b736-4e07596ba5a8 button.colab-df-convert');\n",
              "        buttonEl.style.display =\n",
              "          google.colab.kernel.accessAllowed ? 'block' : 'none';\n",
              "\n",
              "        async function convertToInteractive(key) {\n",
              "          const element = document.querySelector('#df-cc50722f-21f6-4595-b736-4e07596ba5a8');\n",
              "          const dataTable =\n",
              "            await google.colab.kernel.invokeFunction('convertToInteractive',\n",
              "                                                     [key], {});\n",
              "          if (!dataTable) return;\n",
              "\n",
              "          const docLinkHtml = 'Like what you see? Visit the ' +\n",
              "            '<a target=\"_blank\" href=https://colab.research.google.com/notebooks/data_table.ipynb>data table notebook</a>'\n",
              "            + ' to learn more about interactive tables.';\n",
              "          element.innerHTML = '';\n",
              "          dataTable['output_type'] = 'display_data';\n",
              "          await google.colab.output.renderOutput(dataTable, element);\n",
              "          const docLink = document.createElement('div');\n",
              "          docLink.innerHTML = docLinkHtml;\n",
              "          element.appendChild(docLink);\n",
              "        }\n",
              "      </script>\n",
              "    </div>\n",
              "  </div>\n",
              "  "
            ]
          },
          "metadata": {},
          "execution_count": 3
        }
      ]
    },
    {
      "cell_type": "markdown",
      "source": [
        "### Traduzir colunas"
      ],
      "metadata": {
        "id": "DfZDrk2Y3NAO"
      }
    },
    {
      "cell_type": "code",
      "source": [
        "df.columns"
      ],
      "metadata": {
        "colab": {
          "base_uri": "https://localhost:8080/"
        },
        "id": "kGZEgxg51VNM",
        "outputId": "07fcbcdc-250f-42c2-bf42-533163d552de"
      },
      "execution_count": null,
      "outputs": [
        {
          "output_type": "execute_result",
          "data": {
            "text/plain": [
              "Index(['BALANCE', 'BALANCE_FREQUENCY', 'PURCHASES', 'ONEOFF_PURCHASES',\n",
              "       'INSTALLMENTS_PURCHASES', 'CASH_ADVANCE', 'PURCHASES_FREQUENCY',\n",
              "       'ONEOFF_PURCHASES_FREQUENCY', 'PURCHASES_INSTALLMENTS_FREQUENCY',\n",
              "       'CASH_ADVANCE_FREQUENCY', 'CASH_ADVANCE_TRX', 'PURCHASES_TRX',\n",
              "       'CREDIT_LIMIT', 'PAYMENTS', 'MINIMUM_PAYMENTS', 'PRC_FULL_PAYMENT'],\n",
              "      dtype='object')"
            ]
          },
          "metadata": {},
          "execution_count": 4
        }
      ]
    },
    {
      "cell_type": "code",
      "source": [
        "df.columns = ['SALDO','FREQUÊNCIA','COMPRAS','COMPRA_ÚNICA','COMPRAS_PARCELAS',\n",
        "              'ADIANTAMENTO_DINHEIRO','FREQ_COMPRAS','FREQ_COMPRAS_ÚNICAS',\n",
        "              'FREQ_COMPRAS_PARCELADAS','FREQ_ADIANT_CAIXA','DINHEIRO_TRX','COMPRA_TRX',\n",
        "              'LIMITE_CRÉDITO','PAGAMENTOS','PAGAMENTOS_MÍN','PAGAMENTO_TOTAL']\n",
        "df.head().round(2)"
      ],
      "metadata": {
        "colab": {
          "base_uri": "https://localhost:8080/"
        },
        "id": "wR0UINuf3IoU",
        "outputId": "660d0f88-cc7a-4a02-d0c2-d743c66ce058"
      },
      "execution_count": null,
      "outputs": [
        {
          "output_type": "execute_result",
          "data": {
            "text/plain": [
              "     SALDO  FREQUÊNCIA  COMPRAS  COMPRA_ÚNICA  COMPRAS_PARCELAS  \\\n",
              "0    40.90        0.82    95.40          0.00              95.4   \n",
              "1  3202.47        0.91     0.00          0.00               0.0   \n",
              "2  2495.15        1.00   773.17        773.17               0.0   \n",
              "3  1666.67        0.64  1499.00       1499.00               0.0   \n",
              "4   817.71        1.00    16.00         16.00               0.0   \n",
              "\n",
              "   ADIANTAMENTO_DINHEIRO  FREQ_COMPRAS  FREQ_COMPRAS_ÚNICAS  \\\n",
              "0                   0.00          0.17                 0.00   \n",
              "1                6442.95          0.00                 0.00   \n",
              "2                   0.00          1.00                 1.00   \n",
              "3                 205.79          0.08                 0.08   \n",
              "4                   0.00          0.08                 0.08   \n",
              "\n",
              "   FREQ_COMPRAS_PARCELADAS  FREQ_ADIANT_CAIXA  DINHEIRO_TRX  COMPRA_TRX  \\\n",
              "0                     0.08               0.00             0           2   \n",
              "1                     0.00               0.25             4           0   \n",
              "2                     0.00               0.00             0          12   \n",
              "3                     0.00               0.08             1           1   \n",
              "4                     0.00               0.00             0           1   \n",
              "\n",
              "   LIMITE_CRÉDITO  PAGAMENTOS  PAGAMENTOS_MÍN  PAGAMENTO_TOTAL  \n",
              "0          1000.0      201.80          139.51             0.00  \n",
              "1          7000.0     4103.03         1072.34             0.22  \n",
              "2          7500.0      622.07          627.28             0.00  \n",
              "3          7500.0        0.00             NaN             0.00  \n",
              "4          1200.0      678.33          244.79             0.00  "
            ],
            "text/html": [
              "\n",
              "  <div id=\"df-c81471d8-e487-4702-b4e3-38823e0f00ce\">\n",
              "    <div class=\"colab-df-container\">\n",
              "      <div>\n",
              "<style scoped>\n",
              "    .dataframe tbody tr th:only-of-type {\n",
              "        vertical-align: middle;\n",
              "    }\n",
              "\n",
              "    .dataframe tbody tr th {\n",
              "        vertical-align: top;\n",
              "    }\n",
              "\n",
              "    .dataframe thead th {\n",
              "        text-align: right;\n",
              "    }\n",
              "</style>\n",
              "<table border=\"1\" class=\"dataframe\">\n",
              "  <thead>\n",
              "    <tr style=\"text-align: right;\">\n",
              "      <th></th>\n",
              "      <th>SALDO</th>\n",
              "      <th>FREQUÊNCIA</th>\n",
              "      <th>COMPRAS</th>\n",
              "      <th>COMPRA_ÚNICA</th>\n",
              "      <th>COMPRAS_PARCELAS</th>\n",
              "      <th>ADIANTAMENTO_DINHEIRO</th>\n",
              "      <th>FREQ_COMPRAS</th>\n",
              "      <th>FREQ_COMPRAS_ÚNICAS</th>\n",
              "      <th>FREQ_COMPRAS_PARCELADAS</th>\n",
              "      <th>FREQ_ADIANT_CAIXA</th>\n",
              "      <th>DINHEIRO_TRX</th>\n",
              "      <th>COMPRA_TRX</th>\n",
              "      <th>LIMITE_CRÉDITO</th>\n",
              "      <th>PAGAMENTOS</th>\n",
              "      <th>PAGAMENTOS_MÍN</th>\n",
              "      <th>PAGAMENTO_TOTAL</th>\n",
              "    </tr>\n",
              "  </thead>\n",
              "  <tbody>\n",
              "    <tr>\n",
              "      <th>0</th>\n",
              "      <td>40.90</td>\n",
              "      <td>0.82</td>\n",
              "      <td>95.40</td>\n",
              "      <td>0.00</td>\n",
              "      <td>95.4</td>\n",
              "      <td>0.00</td>\n",
              "      <td>0.17</td>\n",
              "      <td>0.00</td>\n",
              "      <td>0.08</td>\n",
              "      <td>0.00</td>\n",
              "      <td>0</td>\n",
              "      <td>2</td>\n",
              "      <td>1000.0</td>\n",
              "      <td>201.80</td>\n",
              "      <td>139.51</td>\n",
              "      <td>0.00</td>\n",
              "    </tr>\n",
              "    <tr>\n",
              "      <th>1</th>\n",
              "      <td>3202.47</td>\n",
              "      <td>0.91</td>\n",
              "      <td>0.00</td>\n",
              "      <td>0.00</td>\n",
              "      <td>0.0</td>\n",
              "      <td>6442.95</td>\n",
              "      <td>0.00</td>\n",
              "      <td>0.00</td>\n",
              "      <td>0.00</td>\n",
              "      <td>0.25</td>\n",
              "      <td>4</td>\n",
              "      <td>0</td>\n",
              "      <td>7000.0</td>\n",
              "      <td>4103.03</td>\n",
              "      <td>1072.34</td>\n",
              "      <td>0.22</td>\n",
              "    </tr>\n",
              "    <tr>\n",
              "      <th>2</th>\n",
              "      <td>2495.15</td>\n",
              "      <td>1.00</td>\n",
              "      <td>773.17</td>\n",
              "      <td>773.17</td>\n",
              "      <td>0.0</td>\n",
              "      <td>0.00</td>\n",
              "      <td>1.00</td>\n",
              "      <td>1.00</td>\n",
              "      <td>0.00</td>\n",
              "      <td>0.00</td>\n",
              "      <td>0</td>\n",
              "      <td>12</td>\n",
              "      <td>7500.0</td>\n",
              "      <td>622.07</td>\n",
              "      <td>627.28</td>\n",
              "      <td>0.00</td>\n",
              "    </tr>\n",
              "    <tr>\n",
              "      <th>3</th>\n",
              "      <td>1666.67</td>\n",
              "      <td>0.64</td>\n",
              "      <td>1499.00</td>\n",
              "      <td>1499.00</td>\n",
              "      <td>0.0</td>\n",
              "      <td>205.79</td>\n",
              "      <td>0.08</td>\n",
              "      <td>0.08</td>\n",
              "      <td>0.00</td>\n",
              "      <td>0.08</td>\n",
              "      <td>1</td>\n",
              "      <td>1</td>\n",
              "      <td>7500.0</td>\n",
              "      <td>0.00</td>\n",
              "      <td>NaN</td>\n",
              "      <td>0.00</td>\n",
              "    </tr>\n",
              "    <tr>\n",
              "      <th>4</th>\n",
              "      <td>817.71</td>\n",
              "      <td>1.00</td>\n",
              "      <td>16.00</td>\n",
              "      <td>16.00</td>\n",
              "      <td>0.0</td>\n",
              "      <td>0.00</td>\n",
              "      <td>0.08</td>\n",
              "      <td>0.08</td>\n",
              "      <td>0.00</td>\n",
              "      <td>0.00</td>\n",
              "      <td>0</td>\n",
              "      <td>1</td>\n",
              "      <td>1200.0</td>\n",
              "      <td>678.33</td>\n",
              "      <td>244.79</td>\n",
              "      <td>0.00</td>\n",
              "    </tr>\n",
              "  </tbody>\n",
              "</table>\n",
              "</div>\n",
              "      <button class=\"colab-df-convert\" onclick=\"convertToInteractive('df-c81471d8-e487-4702-b4e3-38823e0f00ce')\"\n",
              "              title=\"Convert this dataframe to an interactive table.\"\n",
              "              style=\"display:none;\">\n",
              "        \n",
              "  <svg xmlns=\"http://www.w3.org/2000/svg\" height=\"24px\"viewBox=\"0 0 24 24\"\n",
              "       width=\"24px\">\n",
              "    <path d=\"M0 0h24v24H0V0z\" fill=\"none\"/>\n",
              "    <path d=\"M18.56 5.44l.94 2.06.94-2.06 2.06-.94-2.06-.94-.94-2.06-.94 2.06-2.06.94zm-11 1L8.5 8.5l.94-2.06 2.06-.94-2.06-.94L8.5 2.5l-.94 2.06-2.06.94zm10 10l.94 2.06.94-2.06 2.06-.94-2.06-.94-.94-2.06-.94 2.06-2.06.94z\"/><path d=\"M17.41 7.96l-1.37-1.37c-.4-.4-.92-.59-1.43-.59-.52 0-1.04.2-1.43.59L10.3 9.45l-7.72 7.72c-.78.78-.78 2.05 0 2.83L4 21.41c.39.39.9.59 1.41.59.51 0 1.02-.2 1.41-.59l7.78-7.78 2.81-2.81c.8-.78.8-2.07 0-2.86zM5.41 20L4 18.59l7.72-7.72 1.47 1.35L5.41 20z\"/>\n",
              "  </svg>\n",
              "      </button>\n",
              "      \n",
              "  <style>\n",
              "    .colab-df-container {\n",
              "      display:flex;\n",
              "      flex-wrap:wrap;\n",
              "      gap: 12px;\n",
              "    }\n",
              "\n",
              "    .colab-df-convert {\n",
              "      background-color: #E8F0FE;\n",
              "      border: none;\n",
              "      border-radius: 50%;\n",
              "      cursor: pointer;\n",
              "      display: none;\n",
              "      fill: #1967D2;\n",
              "      height: 32px;\n",
              "      padding: 0 0 0 0;\n",
              "      width: 32px;\n",
              "    }\n",
              "\n",
              "    .colab-df-convert:hover {\n",
              "      background-color: #E2EBFA;\n",
              "      box-shadow: 0px 1px 2px rgba(60, 64, 67, 0.3), 0px 1px 3px 1px rgba(60, 64, 67, 0.15);\n",
              "      fill: #174EA6;\n",
              "    }\n",
              "\n",
              "    [theme=dark] .colab-df-convert {\n",
              "      background-color: #3B4455;\n",
              "      fill: #D2E3FC;\n",
              "    }\n",
              "\n",
              "    [theme=dark] .colab-df-convert:hover {\n",
              "      background-color: #434B5C;\n",
              "      box-shadow: 0px 1px 3px 1px rgba(0, 0, 0, 0.15);\n",
              "      filter: drop-shadow(0px 1px 2px rgba(0, 0, 0, 0.3));\n",
              "      fill: #FFFFFF;\n",
              "    }\n",
              "  </style>\n",
              "\n",
              "      <script>\n",
              "        const buttonEl =\n",
              "          document.querySelector('#df-c81471d8-e487-4702-b4e3-38823e0f00ce button.colab-df-convert');\n",
              "        buttonEl.style.display =\n",
              "          google.colab.kernel.accessAllowed ? 'block' : 'none';\n",
              "\n",
              "        async function convertToInteractive(key) {\n",
              "          const element = document.querySelector('#df-c81471d8-e487-4702-b4e3-38823e0f00ce');\n",
              "          const dataTable =\n",
              "            await google.colab.kernel.invokeFunction('convertToInteractive',\n",
              "                                                     [key], {});\n",
              "          if (!dataTable) return;\n",
              "\n",
              "          const docLinkHtml = 'Like what you see? Visit the ' +\n",
              "            '<a target=\"_blank\" href=https://colab.research.google.com/notebooks/data_table.ipynb>data table notebook</a>'\n",
              "            + ' to learn more about interactive tables.';\n",
              "          element.innerHTML = '';\n",
              "          dataTable['output_type'] = 'display_data';\n",
              "          await google.colab.output.renderOutput(dataTable, element);\n",
              "          const docLink = document.createElement('div');\n",
              "          docLink.innerHTML = docLinkHtml;\n",
              "          element.appendChild(docLink);\n",
              "        }\n",
              "      </script>\n",
              "    </div>\n",
              "  </div>\n",
              "  "
            ]
          },
          "metadata": {},
          "execution_count": 5
        }
      ]
    },
    {
      "cell_type": "markdown",
      "source": [
        "### Informações do dataset"
      ],
      "metadata": {
        "id": "rCeLoO8T3RCV"
      }
    },
    {
      "cell_type": "code",
      "source": [
        "df.info()"
      ],
      "metadata": {
        "colab": {
          "base_uri": "https://localhost:8080/"
        },
        "id": "mWnzUr8h3MEb",
        "outputId": "3d571d7c-c339-49af-ed65-a94f1d19b91c"
      },
      "execution_count": null,
      "outputs": [
        {
          "output_type": "stream",
          "name": "stdout",
          "text": [
            "<class 'pandas.core.frame.DataFrame'>\n",
            "RangeIndex: 8950 entries, 0 to 8949\n",
            "Data columns (total 16 columns):\n",
            " #   Column                   Non-Null Count  Dtype  \n",
            "---  ------                   --------------  -----  \n",
            " 0   SALDO                    8950 non-null   float64\n",
            " 1   FREQUÊNCIA               8950 non-null   float64\n",
            " 2   COMPRAS                  8950 non-null   float64\n",
            " 3   COMPRA_ÚNICA             8950 non-null   float64\n",
            " 4   COMPRAS_PARCELAS         8950 non-null   float64\n",
            " 5   ADIANTAMENTO_DINHEIRO    8950 non-null   float64\n",
            " 6   FREQ_COMPRAS             8950 non-null   float64\n",
            " 7   FREQ_COMPRAS_ÚNICAS      8950 non-null   float64\n",
            " 8   FREQ_COMPRAS_PARCELADAS  8950 non-null   float64\n",
            " 9   FREQ_ADIANT_CAIXA        8950 non-null   float64\n",
            " 10  DINHEIRO_TRX             8950 non-null   int64  \n",
            " 11  COMPRA_TRX               8950 non-null   int64  \n",
            " 12  LIMITE_CRÉDITO           8949 non-null   float64\n",
            " 13  PAGAMENTOS               8950 non-null   float64\n",
            " 14  PAGAMENTOS_MÍN           8637 non-null   float64\n",
            " 15  PAGAMENTO_TOTAL          8950 non-null   float64\n",
            "dtypes: float64(14), int64(2)\n",
            "memory usage: 1.1 MB\n"
          ]
        }
      ]
    },
    {
      "cell_type": "markdown",
      "source": [
        "### Valores nulos"
      ],
      "metadata": {
        "id": "CuOz2_dl3X1F"
      }
    },
    {
      "cell_type": "code",
      "source": [
        "df.isnull().sum()"
      ],
      "metadata": {
        "colab": {
          "base_uri": "https://localhost:8080/"
        },
        "id": "VS54rUHQ3Sor",
        "outputId": "055eb177-28fa-4df5-c27a-f99b7a62fefb"
      },
      "execution_count": null,
      "outputs": [
        {
          "output_type": "execute_result",
          "data": {
            "text/plain": [
              "SALDO                        0\n",
              "FREQUÊNCIA                   0\n",
              "COMPRAS                      0\n",
              "COMPRA_ÚNICA                 0\n",
              "COMPRAS_PARCELAS             0\n",
              "ADIANTAMENTO_DINHEIRO        0\n",
              "FREQ_COMPRAS                 0\n",
              "FREQ_COMPRAS_ÚNICAS          0\n",
              "FREQ_COMPRAS_PARCELADAS      0\n",
              "FREQ_ADIANT_CAIXA            0\n",
              "DINHEIRO_TRX                 0\n",
              "COMPRA_TRX                   0\n",
              "LIMITE_CRÉDITO               1\n",
              "PAGAMENTOS                   0\n",
              "PAGAMENTOS_MÍN             313\n",
              "PAGAMENTO_TOTAL              0\n",
              "dtype: int64"
            ]
          },
          "metadata": {},
          "execution_count": 7
        }
      ]
    },
    {
      "cell_type": "code",
      "source": [
        "df.fillna(df.median(), inplace=True)\n",
        "null = df.isnull().sum()\n",
        "null"
      ],
      "metadata": {
        "colab": {
          "base_uri": "https://localhost:8080/"
        },
        "id": "s2UWL9a93bBT",
        "outputId": "9f5f9b02-00e4-437b-b6d6-0869e3129aa6"
      },
      "execution_count": null,
      "outputs": [
        {
          "output_type": "execute_result",
          "data": {
            "text/plain": [
              "SALDO                      0\n",
              "FREQUÊNCIA                 0\n",
              "COMPRAS                    0\n",
              "COMPRA_ÚNICA               0\n",
              "COMPRAS_PARCELAS           0\n",
              "ADIANTAMENTO_DINHEIRO      0\n",
              "FREQ_COMPRAS               0\n",
              "FREQ_COMPRAS_ÚNICAS        0\n",
              "FREQ_COMPRAS_PARCELADAS    0\n",
              "FREQ_ADIANT_CAIXA          0\n",
              "DINHEIRO_TRX               0\n",
              "COMPRA_TRX                 0\n",
              "LIMITE_CRÉDITO             0\n",
              "PAGAMENTOS                 0\n",
              "PAGAMENTOS_MÍN             0\n",
              "PAGAMENTO_TOTAL            0\n",
              "dtype: int64"
            ]
          },
          "metadata": {},
          "execution_count": 8
        }
      ]
    },
    {
      "cell_type": "markdown",
      "source": [
        "### Visualizar alguns valores"
      ],
      "metadata": {
        "id": "7jFenN4s4dF1"
      }
    },
    {
      "cell_type": "code",
      "source": [
        "maiorS = df['LIMITE_CRÉDITO'].max()\n",
        "maiorD = df['COMPRAS'].max()\n",
        "parcelas = df['COMPRAS_PARCELAS'].value_counts().max()\n",
        "\n",
        "print(f'Maior limite de crédito: {maiorS}')\n",
        "print(f'Maior valor em compras: {maiorD}')\n",
        "print(f'Quantidade máxima de parcelas: {parcelas}')"
      ],
      "metadata": {
        "colab": {
          "base_uri": "https://localhost:8080/"
        },
        "id": "N1mvPFjU3vvc",
        "outputId": "ff2960ff-9dcf-4dae-a416-aa817cbb72de"
      },
      "execution_count": null,
      "outputs": [
        {
          "output_type": "stream",
          "name": "stdout",
          "text": [
            "Maior limite de crédito: 30000.0\n",
            "Maior valor em compras: 49039.57\n",
            "Quantidade máxima de parcelas: 3916\n"
          ]
        }
      ]
    },
    {
      "cell_type": "markdown",
      "source": [
        "### Histograma\n",
        "\n",
        "> Dataset com uma concentração de valores abaixo de 3mil"
      ],
      "metadata": {
        "id": "elN8Io2g5GBd"
      }
    },
    {
      "cell_type": "code",
      "source": [
        "df.SALDO.plot(kind='hist')"
      ],
      "metadata": {
        "colab": {
          "base_uri": "https://localhost:8080/"
        },
        "id": "ep_qpW2L5IKN",
        "outputId": "16eb456e-07f0-473a-d30d-cf2eb0da5752"
      },
      "execution_count": null,
      "outputs": [
        {
          "output_type": "execute_result",
          "data": {
            "text/plain": [
              "<matplotlib.axes._subplots.AxesSubplot at 0x7f6f8c8cca30>"
            ]
          },
          "metadata": {},
          "execution_count": 10
        },
        {
          "output_type": "display_data",
          "data": {
            "text/plain": [
              "<Figure size 432x288 with 1 Axes>"
            ],
            "image/png": "[encoded data removed]"
          },
          "metadata": {
            "needs_background": "light"
          }
        }
      ]
    },
    {
      "cell_type": "markdown",
      "source": [
        "### Dados estatísticos\n",
        "\n",
        "> Discrepancia dos dados estão altissímas"
      ],
      "metadata": {
        "id": "AAu8Q9U55mHw"
      }
    },
    {
      "cell_type": "code",
      "source": [
        "df.SALDO.describe().round()"
      ],
      "metadata": {
        "colab": {
          "base_uri": "https://localhost:8080/"
        },
        "id": "yxVgh7k25Ijj",
        "outputId": "8cf42391-cd63-4528-a773-4c963bfb28d2"
      },
      "execution_count": null,
      "outputs": [
        {
          "output_type": "execute_result",
          "data": {
            "text/plain": [
              "count     8950.0\n",
              "mean      1564.0\n",
              "std       2082.0\n",
              "min          0.0\n",
              "25%        128.0\n",
              "50%        873.0\n",
              "75%       2054.0\n",
              "max      19043.0\n",
              "Name: SALDO, dtype: float64"
            ]
          },
          "metadata": {},
          "execution_count": 11
        }
      ]
    },
    {
      "cell_type": "code",
      "source": [
        "sns.boxplot(df.SALDO)"
      ],
      "metadata": {
        "colab": {
          "base_uri": "https://localhost:8080/",
          "height": 351
        },
        "id": "ukKTYTsw5otL",
        "outputId": "ede2fbd5-654a-432b-faba-db842f8564ce"
      },
      "execution_count": null,
      "outputs": [
        {
          "output_type": "stream",
          "name": "stderr",
          "text": [
            "/usr/local/lib/python3.8/dist-packages/seaborn/_decorators.py:36: FutureWarning: Pass the following variable as a keyword arg: x. From version 0.12, the only valid positional argument will be `data`, and passing other arguments without an explicit keyword will result in an error or misinterpretation.\n",
            "  warnings.warn(\n"
          ]
        },
        {
          "output_type": "execute_result",
          "data": {
            "text/plain": [
              "<matplotlib.axes._subplots.AxesSubplot at 0x7f6f8c72f850>"
            ]
          },
          "metadata": {},
          "execution_count": 12
        },
        {
          "output_type": "display_data",
          "data": {
            "text/plain": [
              "<Figure size 432x288 with 1 Axes>"
            ],
            "image/png": "[encoded data removed]"
          },
          "metadata": {
            "needs_background": "light"
          }
        }
      ]
    },
    {
      "cell_type": "markdown",
      "source": [
        "## Machine Learning"
      ],
      "metadata": {
        "id": "jdUtzfaOJcou"
      }
    },
    {
      "cell_type": "markdown",
      "source": [
        "## Normalizar os dados\n",
        "\n",
        "> As escalas dos dados acima estão muito diferentes, terá que se normalizado os dados, p/ uma variável não ter mais importância que a outra."
      ],
      "metadata": {
        "id": "m3IE0Zh86UGG"
      }
    },
    {
      "cell_type": "code",
      "source": [
        "from sklearn.preprocessing import Normalizer\n",
        "values = Normalizer().fit_transform(df.values)\n",
        "values"
      ],
      "metadata": {
        "colab": {
          "base_uri": "https://localhost:8080/"
        },
        "id": "nJ5iIbBw5zGc",
        "outputId": "fd337113-ad8e-4d29-cb72-4ab88dfec44e"
      },
      "execution_count": null,
      "outputs": [
        {
          "output_type": "execute_result",
          "data": {
            "text/plain": [
              "array([[3.93555441e-02, 7.87271593e-04, 9.17958473e-02, ...,\n",
              "        1.94178127e-01, 1.34239194e-01, 0.00000000e+00],\n",
              "       [2.93875903e-01, 8.34231560e-05, 0.00000000e+00, ...,\n",
              "        3.76516684e-01, 9.84037959e-02, 2.03923046e-05],\n",
              "       [3.10798149e-01, 1.24560965e-04, 9.63068011e-02, ...,\n",
              "        7.74852335e-02, 7.81351982e-02, 0.00000000e+00],\n",
              "       ...,\n",
              "       [2.27733092e-02, 8.11060955e-04, 1.40540698e-01, ...,\n",
              "        7.90986945e-02, 8.02156174e-02, 2.43318384e-04],\n",
              "       [2.65257948e-02, 1.64255731e-03, 0.00000000e+00, ...,\n",
              "        1.03579625e-01, 1.09898221e-01, 4.92767391e-04],\n",
              "       [1.86406219e-01, 3.33426837e-04, 5.46778061e-01, ...,\n",
              "        3.15915455e-02, 4.41568390e-02, 0.00000000e+00]])"
            ]
          },
          "metadata": {},
          "execution_count": 13
        }
      ]
    },
    {
      "cell_type": "markdown",
      "source": [
        "## Treinamento de maquina (Clustering)\n",
        "\n",
        "> algoritmos de machine learning não supervisionados (Clustering), usado quando não existe rótulos no dataset\n",
        "5 grupos, rodando 10x, sendo obrigado a retorna o mesmo resultado em ambas execuções."
      ],
      "metadata": {
        "id": "oJCl4hMc6c9u"
      }
    },
    {
      "cell_type": "code",
      "source": [
        "from sklearn.cluster import KMeans\n",
        "kmeans = KMeans(n_clusters=5, n_init=10, max_iter=300)\n",
        "y_pred = kmeans.fit_predict(values)"
      ],
      "metadata": {
        "id": "Iv7mvQdx6ZMk"
      },
      "execution_count": null,
      "outputs": []
    },
    {
      "cell_type": "markdown",
      "source": [
        "## Critério de validação - Silhouette\n",
        "\n",
        "> Externas: Necessitam de Labels\n",
        "\n",
        "> Internas: Não necessitam de Labels\n",
        "Compactação\n",
        "\n",
        "> Quanto mais próximos estiverem os pontos uns dos outros mais compactado os dados.\n",
        "\n",
        "> **Métrica de Silhouette: vai de -1 até 1 (quanto mais próximo de 1 positivo, melhor);**\n",
        "\n",
        "\n",
        "\n"
      ],
      "metadata": {
        "id": "1yeDX0Z362tG"
      }
    },
    {
      "cell_type": "code",
      "source": [
        "from sklearn import metrics\n",
        "labels = kmeans.labels_\n",
        "silhouette = metrics.silhouette_score(values, labels, metric='euclidean')\n",
        "print(silhouette)"
      ],
      "metadata": {
        "colab": {
          "base_uri": "https://localhost:8080/"
        },
        "id": "jq-Wq0XY6kVk",
        "outputId": "40f7c699-1db0-4bed-ce35-a85c4b34024e"
      },
      "execution_count": null,
      "outputs": [
        {
          "output_type": "stream",
          "name": "stdout",
          "text": [
            "0.36454411415175675\n"
          ]
        }
      ]
    },
    {
      "cell_type": "markdown",
      "source": [
        "## Davies-Bouldin\n",
        "\n",
        "> Calcular a distância média entre cada ponto do cluster e seu centroide.\n",
        "\n",
        "> **Métrica de Davies Bouldin: quanto mais próximo de 0 o valor, melhor);**"
      ],
      "metadata": {
        "id": "9vGijw647iwl"
      }
    },
    {
      "cell_type": "code",
      "source": [
        "dbs = metrics.davies_bouldin_score(values, labels)\n",
        "print(dbs)"
      ],
      "metadata": {
        "colab": {
          "base_uri": "https://localhost:8080/"
        },
        "id": "zrZ41sL67WA7",
        "outputId": "65359dda-3e82-4c71-ead1-c0f1bec4659a"
      },
      "execution_count": null,
      "outputs": [
        {
          "output_type": "stream",
          "name": "stdout",
          "text": [
            "1.0759640420985466\n"
          ]
        }
      ]
    },
    {
      "cell_type": "markdown",
      "source": [
        "## Calinski-Harabasz\n",
        "\n",
        "> leva em consideração a dispersão dos pontos dentro de um cluster, tanto nos pontos dentro de um cluster específico, como entre clusters diferentes, considerando a compactação e separação também.\n",
        "\n",
        "> **Métrica de Calinski: valor seja o mais alto possível.**"
      ],
      "metadata": {
        "id": "CE1lIl3U7t69"
      }
    },
    {
      "cell_type": "code",
      "source": [
        "calinski = metrics.calinski_harabasz_score(values, labels)\n",
        "print(calinski)"
      ],
      "metadata": {
        "colab": {
          "base_uri": "https://localhost:8080/"
        },
        "id": "O1EDWff47r7z",
        "outputId": "0cb53f45-7a6e-4851-bece-05df0a93d53b"
      },
      "execution_count": null,
      "outputs": [
        {
          "output_type": "stream",
          "name": "stdout",
          "text": [
            "3431.7970107150363\n"
          ]
        }
      ]
    },
    {
      "cell_type": "markdown",
      "source": [
        "## A validação relativa\n",
        "> Criar uma função p/ testar parâmetros novos nos critérios de validação."
      ],
      "metadata": {
        "id": "S7sDN13r7501"
      }
    },
    {
      "cell_type": "code",
      "source": [
        "def clustering_algorithm(n_clusters, dataset):\n",
        "    kmeans = KMeans(n_clusters = n_clusters, n_init=10, max_iter=300)\n",
        "    labels = kmeans.fit_predict(dataset)\n",
        "    s = metrics.silhouette_score(dataset, labels, metric='euclidean')\n",
        "    dbs = metrics.davies_bouldin_score(dataset, labels)\n",
        "    calinski = metrics.calinski_harabasz_score(dataset, labels)\n",
        "    return s, dbs, calinski"
      ],
      "metadata": {
        "id": "rHfPAyYs7yvM"
      },
      "execution_count": null,
      "outputs": []
    },
    {
      "cell_type": "code",
      "source": [
        "s1, dbs1, cal1 = clustering_algorithm(3, values)\n",
        "print(s1, dbs1, cal1)"
      ],
      "metadata": {
        "colab": {
          "base_uri": "https://localhost:8080/"
        },
        "id": "f6AyHkKJ7_U7",
        "outputId": "0be2676d-942d-4d32-cee7-ecbc3c18769b"
      },
      "execution_count": null,
      "outputs": [
        {
          "output_type": "stream",
          "name": "stdout",
          "text": [
            "0.3271378885807343 1.310173917319483 3526.4524659371787\n"
          ]
        }
      ]
    },
    {
      "cell_type": "code",
      "source": [
        "# Melhor modelo\n",
        "s2, dbs2, cal2 = clustering_algorithm(5, values)\n",
        "print(s2, dbs2, cal2)"
      ],
      "metadata": {
        "colab": {
          "base_uri": "https://localhost:8080/"
        },
        "id": "3W2xYGcd8d2N",
        "outputId": "fe626f05-7d93-458e-cca2-85fcceffdb8e"
      },
      "execution_count": null,
      "outputs": [
        {
          "output_type": "stream",
          "name": "stdout",
          "text": [
            "0.34852928204523576 1.1527134855876944 3422.8382083377455\n"
          ]
        }
      ]
    },
    {
      "cell_type": "code",
      "source": [
        "s3, dbs3, cal3 = clustering_algorithm(10, values)\n",
        "print(s3, dbs3, cal3)"
      ],
      "metadata": {
        "colab": {
          "base_uri": "https://localhost:8080/"
        },
        "id": "8xlwZ3yw8d4x",
        "outputId": "4614e3bb-fc4c-41b8-a79d-32293c4de2d7"
      },
      "execution_count": null,
      "outputs": [
        {
          "output_type": "stream",
          "name": "stdout",
          "text": [
            "0.3502512978283904 1.1210416316050558 3018.9872864933077\n"
          ]
        }
      ]
    },
    {
      "cell_type": "markdown",
      "source": [
        "## Estrutura dos clusters\n",
        "\n",
        "> Criar valores aleatórios com a mesma quantidade de dados e variáveis.\n",
        "\n",
        "> Motivo: comparar o score dos dados gerados de forma aleatória com os dados do dataset; Verificar se o modelo está obtendo um bom resultado."
      ],
      "metadata": {
        "id": "PCW6aekw89he"
      }
    },
    {
      "cell_type": "code",
      "source": [
        "df.count()"
      ],
      "metadata": {
        "colab": {
          "base_uri": "https://localhost:8080/"
        },
        "id": "026iWk-V8f9j",
        "outputId": "a0eedfa4-5799-4122-9c74-1d955d91c324"
      },
      "execution_count": null,
      "outputs": [
        {
          "output_type": "execute_result",
          "data": {
            "text/plain": [
              "SALDO                      8950\n",
              "FREQUÊNCIA                 8950\n",
              "COMPRAS                    8950\n",
              "COMPRA_ÚNICA               8950\n",
              "COMPRAS_PARCELAS           8950\n",
              "ADIANTAMENTO_DINHEIRO      8950\n",
              "FREQ_COMPRAS               8950\n",
              "FREQ_COMPRAS_ÚNICAS        8950\n",
              "FREQ_COMPRAS_PARCELADAS    8950\n",
              "FREQ_ADIANT_CAIXA          8950\n",
              "DINHEIRO_TRX               8950\n",
              "COMPRA_TRX                 8950\n",
              "LIMITE_CRÉDITO             8950\n",
              "PAGAMENTOS                 8950\n",
              "PAGAMENTOS_MÍN             8950\n",
              "PAGAMENTO_TOTAL            8950\n",
              "dtype: int64"
            ]
          },
          "metadata": {},
          "execution_count": 22
        }
      ]
    },
    {
      "cell_type": "code",
      "source": [
        "# Meu modelo saiu muito superior a um modelo aleatório\n",
        "random_data = np.random.rand(8950, 16)\n",
        "s, dbs, cal = clustering_algorithm(5, random_data)\n",
        "# Resultado do conjunto aleatório\n",
        "print(f'Resultado do conjunto gerado de forma aleatória: {s, dbs, cal}')\n",
        "# Dataset normalizado\n",
        "print(f'Resultado do dataset normalizado e treinado, usando melhor métrica: {s2, dbs2, cal2}')"
      ],
      "metadata": {
        "colab": {
          "base_uri": "https://localhost:8080/"
        },
        "id": "6jv1oeus9ApU",
        "outputId": "eefe9a15-5601-4a6e-cc02-c0f2071dc1fe"
      },
      "execution_count": null,
      "outputs": [
        {
          "output_type": "stream",
          "name": "stdout",
          "text": [
            "Resultado do conjunto gerado de forma aleatória: (0.03932738056535126, 3.5250210371905917, 303.28152665010043)\n",
            "Resultado do dataset normalizado e treinado, usando melhor métrica: (0.34852928204523576, 1.1527134855876944, 3422.8382083377455)\n"
          ]
        }
      ]
    },
    {
      "cell_type": "markdown",
      "source": [
        "## Estabilidade dos clusters\n",
        "\n",
        "> Objetivo: dividir a base de dados, para cada uma dessas divisões obtermos resultados similares para as métricas, pois queremos que o kmeans se comporte similarmente em cada uma para conseguirmos a validação."
      ],
      "metadata": {
        "id": "8SgeD6nL9dw1"
      }
    },
    {
      "cell_type": "code",
      "source": [
        "set1, set2, set3 = np.array_split(values, 3)\n",
        "s1, dbs1, cal1 = clustering_algorithm(5, set1)\n",
        "s2, dbs2, cal2 = clustering_algorithm(5, set2)\n",
        "s3, dbs3, cal3 = clustering_algorithm(5, set3)\n",
        "print('Teste1:',s1, dbs1, cal1)\n",
        "print('Teste2:',s2, dbs2, cal2)\n",
        "print('Teste3:',s3, dbs3, cal3)"
      ],
      "metadata": {
        "colab": {
          "base_uri": "https://localhost:8080/"
        },
        "id": "pGi5I3569N8u",
        "outputId": "6e670312-e61c-49cd-8276-f45aadefc321"
      },
      "execution_count": null,
      "outputs": [
        {
          "output_type": "stream",
          "name": "stdout",
          "text": [
            "Teste1: 0.36908155221853267 1.0580445685596032 1204.0558494933455\n",
            "Teste2: 0.35416642754504835 1.1382306445993162 1194.9519865048878\n",
            "Teste3: 0.36713104970461446 1.0991014125845049 1167.5075975296127\n"
          ]
        }
      ]
    },
    {
      "cell_type": "markdown",
      "source": [
        "## frequências quantitativas\n",
        "\n",
        "> Passo 1 - especificar os limites de cada classe\n",
        "\n",
        "* 'F' = 1mil de crédito,\n",
        "* 'E' = 3mil de crédito,\n",
        "* 'D' = 5mil de crédito,\n",
        "* 'C' = 10mil de crédito,\n",
        "* 'B' = 15mil de crédito,\n",
        "* 'A' = 30mil de crédito"
      ],
      "metadata": {
        "id": "KdvsXoII9m0G"
      }
    },
    {
      "cell_type": "code",
      "source": [
        "classes = [0,1000,3000,5000,10000, 15000, 30000]\n",
        "labels_2 =  ['F','E','D','C','B','A']"
      ],
      "metadata": {
        "id": "w-tfGOwV-ksc"
      },
      "execution_count": null,
      "outputs": []
    },
    {
      "cell_type": "code",
      "source": [
        "frequencia = pd.value_counts(pd.cut(x= df.LIMITE_CRÉDITO, bins=classes, labels = labels_2, \n",
        "                    include_lowest =True))\n",
        "\n",
        "data = pd.DataFrame(frequencia)\n",
        "data"
      ],
      "metadata": {
        "colab": {
          "base_uri": "https://localhost:8080/",
          "height": 238
        },
        "id": "jzTjApYx_kk-",
        "outputId": "41593963-f8eb-463b-a6d7-989beb08bc25"
      },
      "execution_count": null,
      "outputs": [
        {
          "output_type": "execute_result",
          "data": {
            "text/plain": [
              "   LIMITE_CRÉDITO\n",
              "E            3753\n",
              "C            2211\n",
              "D            1468\n",
              "F             831\n",
              "B             535\n",
              "A             152"
            ],
            "text/html": [
              "\n",
              "  <div id=\"df-cf6a3f6c-3364-4f39-bfaa-99b2c12170cb\">\n",
              "    <div class=\"colab-df-container\">\n",
              "      <div>\n",
              "<style scoped>\n",
              "    .dataframe tbody tr th:only-of-type {\n",
              "        vertical-align: middle;\n",
              "    }\n",
              "\n",
              "    .dataframe tbody tr th {\n",
              "        vertical-align: top;\n",
              "    }\n",
              "\n",
              "    .dataframe thead th {\n",
              "        text-align: right;\n",
              "    }\n",
              "</style>\n",
              "<table border=\"1\" class=\"dataframe\">\n",
              "  <thead>\n",
              "    <tr style=\"text-align: right;\">\n",
              "      <th></th>\n",
              "      <th>LIMITE_CRÉDITO</th>\n",
              "    </tr>\n",
              "  </thead>\n",
              "  <tbody>\n",
              "    <tr>\n",
              "      <th>E</th>\n",
              "      <td>3753</td>\n",
              "    </tr>\n",
              "    <tr>\n",
              "      <th>C</th>\n",
              "      <td>2211</td>\n",
              "    </tr>\n",
              "    <tr>\n",
              "      <th>D</th>\n",
              "      <td>1468</td>\n",
              "    </tr>\n",
              "    <tr>\n",
              "      <th>F</th>\n",
              "      <td>831</td>\n",
              "    </tr>\n",
              "    <tr>\n",
              "      <th>B</th>\n",
              "      <td>535</td>\n",
              "    </tr>\n",
              "    <tr>\n",
              "      <th>A</th>\n",
              "      <td>152</td>\n",
              "    </tr>\n",
              "  </tbody>\n",
              "</table>\n",
              "</div>\n",
              "      <button class=\"colab-df-convert\" onclick=\"convertToInteractive('df-cf6a3f6c-3364-4f39-bfaa-99b2c12170cb')\"\n",
              "              title=\"Convert this dataframe to an interactive table.\"\n",
              "              style=\"display:none;\">\n",
              "        \n",
              "  <svg xmlns=\"http://www.w3.org/2000/svg\" height=\"24px\"viewBox=\"0 0 24 24\"\n",
              "       width=\"24px\">\n",
              "    <path d=\"M0 0h24v24H0V0z\" fill=\"none\"/>\n",
              "    <path d=\"M18.56 5.44l.94 2.06.94-2.06 2.06-.94-2.06-.94-.94-2.06-.94 2.06-2.06.94zm-11 1L8.5 8.5l.94-2.06 2.06-.94-2.06-.94L8.5 2.5l-.94 2.06-2.06.94zm10 10l.94 2.06.94-2.06 2.06-.94-2.06-.94-.94-2.06-.94 2.06-2.06.94z\"/><path d=\"M17.41 7.96l-1.37-1.37c-.4-.4-.92-.59-1.43-.59-.52 0-1.04.2-1.43.59L10.3 9.45l-7.72 7.72c-.78.78-.78 2.05 0 2.83L4 21.41c.39.39.9.59 1.41.59.51 0 1.02-.2 1.41-.59l7.78-7.78 2.81-2.81c.8-.78.8-2.07 0-2.86zM5.41 20L4 18.59l7.72-7.72 1.47 1.35L5.41 20z\"/>\n",
              "  </svg>\n",
              "      </button>\n",
              "      \n",
              "  <style>\n",
              "    .colab-df-container {\n",
              "      display:flex;\n",
              "      flex-wrap:wrap;\n",
              "      gap: 12px;\n",
              "    }\n",
              "\n",
              "    .colab-df-convert {\n",
              "      background-color: #E8F0FE;\n",
              "      border: none;\n",
              "      border-radius: 50%;\n",
              "      cursor: pointer;\n",
              "      display: none;\n",
              "      fill: #1967D2;\n",
              "      height: 32px;\n",
              "      padding: 0 0 0 0;\n",
              "      width: 32px;\n",
              "    }\n",
              "\n",
              "    .colab-df-convert:hover {\n",
              "      background-color: #E2EBFA;\n",
              "      box-shadow: 0px 1px 2px rgba(60, 64, 67, 0.3), 0px 1px 3px 1px rgba(60, 64, 67, 0.15);\n",
              "      fill: #174EA6;\n",
              "    }\n",
              "\n",
              "    [theme=dark] .colab-df-convert {\n",
              "      background-color: #3B4455;\n",
              "      fill: #D2E3FC;\n",
              "    }\n",
              "\n",
              "    [theme=dark] .colab-df-convert:hover {\n",
              "      background-color: #434B5C;\n",
              "      box-shadow: 0px 1px 3px 1px rgba(0, 0, 0, 0.15);\n",
              "      filter: drop-shadow(0px 1px 2px rgba(0, 0, 0, 0.3));\n",
              "      fill: #FFFFFF;\n",
              "    }\n",
              "  </style>\n",
              "\n",
              "      <script>\n",
              "        const buttonEl =\n",
              "          document.querySelector('#df-cf6a3f6c-3364-4f39-bfaa-99b2c12170cb button.colab-df-convert');\n",
              "        buttonEl.style.display =\n",
              "          google.colab.kernel.accessAllowed ? 'block' : 'none';\n",
              "\n",
              "        async function convertToInteractive(key) {\n",
              "          const element = document.querySelector('#df-cf6a3f6c-3364-4f39-bfaa-99b2c12170cb');\n",
              "          const dataTable =\n",
              "            await google.colab.kernel.invokeFunction('convertToInteractive',\n",
              "                                                     [key], {});\n",
              "          if (!dataTable) return;\n",
              "\n",
              "          const docLinkHtml = 'Like what you see? Visit the ' +\n",
              "            '<a target=\"_blank\" href=https://colab.research.google.com/notebooks/data_table.ipynb>data table notebook</a>'\n",
              "            + ' to learn more about interactive tables.';\n",
              "          element.innerHTML = '';\n",
              "          dataTable['output_type'] = 'display_data';\n",
              "          await google.colab.output.renderOutput(dataTable, element);\n",
              "          const docLink = document.createElement('div');\n",
              "          docLink.innerHTML = docLinkHtml;\n",
              "          element.appendChild(docLink);\n",
              "        }\n",
              "      </script>\n",
              "    </div>\n",
              "  </div>\n",
              "  "
            ]
          },
          "metadata": {},
          "execution_count": 27
        }
      ]
    },
    {
      "cell_type": "markdown",
      "source": [
        "## Média de compras parceladas por Clusters"
      ],
      "metadata": {
        "id": "knVLr7JZHB8m"
      }
    },
    {
      "cell_type": "code",
      "source": [
        "df['cluster'] = labels\n",
        "df.groupby('cluster').mean()['COMPRAS_PARCELAS'].round()"
      ],
      "metadata": {
        "colab": {
          "base_uri": "https://localhost:8080/"
        },
        "id": "Rt0nwA5DFrtk",
        "outputId": "f7e1e3ac-b5c5-4e03-a974-62ea59266b49"
      },
      "execution_count": null,
      "outputs": [
        {
          "output_type": "execute_result",
          "data": {
            "text/plain": [
              "cluster\n",
              "0    1147.0\n",
              "1     316.0\n",
              "2     152.0\n",
              "3     671.0\n",
              "4     190.0\n",
              "Name: COMPRAS_PARCELAS, dtype: float64"
            ]
          },
          "metadata": {},
          "execution_count": 28
        }
      ]
    },
    {
      "cell_type": "code",
      "source": [
        "# maior16 = contagem.query('total > 16')\n",
        "sns.barplot(x='cluster', y='SALDO', data=df)"
      ],
      "metadata": {
        "colab": {
          "base_uri": "https://localhost:8080/",
          "height": 296
        },
        "id": "fj3Ot9ygHXGY",
        "outputId": "71ff3735-5089-4f6c-af21-ae49f69dd013"
      },
      "execution_count": null,
      "outputs": [
        {
          "output_type": "execute_result",
          "data": {
            "text/plain": [
              "<matplotlib.axes._subplots.AxesSubplot at 0x7f6f8757d1c0>"
            ]
          },
          "metadata": {},
          "execution_count": 29
        },
        {
          "output_type": "display_data",
          "data": {
            "text/plain": [
              "<Figure size 432x288 with 1 Axes>"
            ],
            "image/png": "[encoded data removed]"
          },
          "metadata": {
            "needs_background": "light"
          }
        }
      ]
    },
    {
      "cell_type": "markdown",
      "source": [
        "**Quantidade de dados em cada clusters**"
      ],
      "metadata": {
        "id": "SZvW1lzxIQkP"
      }
    },
    {
      "cell_type": "code",
      "source": [
        "sns.catplot(x =\"cluster\", kind=\"count\", \n",
        "            data = df, aspect=2, palette=\"GnBu_d\")  "
      ],
      "metadata": {
        "colab": {
          "base_uri": "https://localhost:8080/",
          "height": 386
        },
        "id": "MJnZVw9bGVSs",
        "outputId": "79134f12-2cec-4e40-e906-e34de4b3e2e7"
      },
      "execution_count": null,
      "outputs": [
        {
          "output_type": "execute_result",
          "data": {
            "text/plain": [
              "<seaborn.axisgrid.FacetGrid at 0x7f6f8752d4f0>"
            ]
          },
          "metadata": {},
          "execution_count": 32
        },
        {
          "output_type": "display_data",
          "data": {
            "text/plain": [
              "<Figure size 720x360 with 1 Axes>"
            ],
            "image/png": "[encoded data removed]"
          },
          "metadata": {
            "needs_background": "light"
          }
        }
      ]
    },
    {
      "cell_type": "markdown",
      "source": [
        "## Selecionando os atributos\n",
        "> Pegando os centroids com maiores valores de variância"
      ],
      "metadata": {
        "id": "5AZ2yG4IIg3s"
      }
    },
    {
      "cell_type": "code",
      "source": [
        "centroids = kmeans.cluster_centers_\n",
        "max = len(centroids[0])\n",
        "for i in range(max):\n",
        "    print(df.columns.values[i], \"\\n{:.4f}\".format(centroids[:, i].var()))"
      ],
      "metadata": {
        "colab": {
          "base_uri": "https://localhost:8080/"
        },
        "id": "2BHGLPWXH7tL",
        "outputId": "1e85026a-8bdb-401e-ae24-ec8aa9bf1a59"
      },
      "execution_count": null,
      "outputs": [
        {
          "output_type": "stream",
          "name": "stdout",
          "text": [
            "SALDO \n",
            "0.0224\n",
            "FREQUÊNCIA \n",
            "0.0000\n",
            "COMPRAS \n",
            "0.0197\n",
            "COMPRA_ÚNICA \n",
            "0.0076\n",
            "COMPRAS_PARCELAS \n",
            "0.0036\n",
            "ADIANTAMENTO_DINHEIRO \n",
            "0.0225\n",
            "FREQ_COMPRAS \n",
            "0.0000\n",
            "FREQ_COMPRAS_ÚNICAS \n",
            "0.0000\n",
            "FREQ_COMPRAS_PARCELADAS \n",
            "0.0000\n",
            "FREQ_ADIANT_CAIXA \n",
            "0.0000\n",
            "DINHEIRO_TRX \n",
            "0.0000\n",
            "COMPRA_TRX \n",
            "0.0000\n",
            "LIMITE_CRÉDITO \n",
            "0.0360\n",
            "PAGAMENTOS \n",
            "0.0279\n",
            "PAGAMENTOS_MÍN \n",
            "0.0543\n",
            "PAGAMENTO_TOTAL \n",
            "0.0000\n"
          ]
        }
      ]
    },
    {
      "cell_type": "markdown",
      "source": [
        "## Filtrando"
      ],
      "metadata": {
        "id": "wLI1mYLTIto1"
      }
    },
    {
      "cell_type": "code",
      "source": [
        "description = df.groupby('cluster')['SALDO','COMPRAS','ADIANTAMENTO_DINHEIRO','LIMITE_CRÉDITO','PAGAMENTOS', 'PAGAMENTOS_MÍN']\n",
        "n_clients = description.size()  # quantidade de clientes por cluster\n",
        "description = description.mean() # usada a média de valores\n",
        "description['n_clients'] = n_clients  # criando uma variável p/ salvar a quantidade de clientes\n",
        "dados = pd.DataFrame(description)  # Transformando em um Dataframe\n",
        "dados.round()"
      ],
      "metadata": {
        "colab": {
          "base_uri": "https://localhost:8080/",
          "height": 272
        },
        "id": "3aGbPLglIkg8",
        "outputId": "3a12c865-7391-48f6-e251-4c0b1fdfa309"
      },
      "execution_count": null,
      "outputs": [
        {
          "output_type": "stream",
          "name": "stderr",
          "text": [
            "<ipython-input-35-038fa14b35f2>:1: FutureWarning: Indexing with multiple keys (implicitly converted to a tuple of keys) will be deprecated, use a list instead.\n",
            "  description = df.groupby('cluster')['SALDO','COMPRAS','ADIANTAMENTO_DINHEIRO','LIMITE_CRÉDITO','PAGAMENTOS', 'PAGAMENTOS_MÍN']\n"
          ]
        },
        {
          "output_type": "execute_result",
          "data": {
            "text/plain": [
              "          SALDO  COMPRAS  ADIANTAMENTO_DINHEIRO  LIMITE_CRÉDITO  PAGAMENTOS  \\\n",
              "cluster                                                                       \n",
              "0        1143.0   3274.0                  182.0          4097.0      3037.0   \n",
              "1         444.0    629.0                  141.0          5131.0       814.0   \n",
              "2        3038.0    385.0                 1637.0          4496.0       969.0   \n",
              "3        1988.0    855.0                  421.0          2228.0      1336.0   \n",
              "4        1794.0    478.0                 3267.0          3983.0      4712.0   \n",
              "\n",
              "         PAGAMENTOS_MÍN  n_clients  \n",
              "cluster                             \n",
              "0                 543.0       1536  \n",
              "1                 229.0       3280  \n",
              "2                1022.0       2649  \n",
              "3                6042.0        411  \n",
              "4                 734.0       1074  "
            ],
            "text/html": [
              "\n",
              "  <div id=\"df-bc2eff19-8704-4cc6-8a0c-e991e18c1914\">\n",
              "    <div class=\"colab-df-container\">\n",
              "      <div>\n",
              "<style scoped>\n",
              "    .dataframe tbody tr th:only-of-type {\n",
              "        vertical-align: middle;\n",
              "    }\n",
              "\n",
              "    .dataframe tbody tr th {\n",
              "        vertical-align: top;\n",
              "    }\n",
              "\n",
              "    .dataframe thead th {\n",
              "        text-align: right;\n",
              "    }\n",
              "</style>\n",
              "<table border=\"1\" class=\"dataframe\">\n",
              "  <thead>\n",
              "    <tr style=\"text-align: right;\">\n",
              "      <th></th>\n",
              "      <th>SALDO</th>\n",
              "      <th>COMPRAS</th>\n",
              "      <th>ADIANTAMENTO_DINHEIRO</th>\n",
              "      <th>LIMITE_CRÉDITO</th>\n",
              "      <th>PAGAMENTOS</th>\n",
              "      <th>PAGAMENTOS_MÍN</th>\n",
              "      <th>n_clients</th>\n",
              "    </tr>\n",
              "    <tr>\n",
              "      <th>cluster</th>\n",
              "      <th></th>\n",
              "      <th></th>\n",
              "      <th></th>\n",
              "      <th></th>\n",
              "      <th></th>\n",
              "      <th></th>\n",
              "      <th></th>\n",
              "    </tr>\n",
              "  </thead>\n",
              "  <tbody>\n",
              "    <tr>\n",
              "      <th>0</th>\n",
              "      <td>1143.0</td>\n",
              "      <td>3274.0</td>\n",
              "      <td>182.0</td>\n",
              "      <td>4097.0</td>\n",
              "      <td>3037.0</td>\n",
              "      <td>543.0</td>\n",
              "      <td>1536</td>\n",
              "    </tr>\n",
              "    <tr>\n",
              "      <th>1</th>\n",
              "      <td>444.0</td>\n",
              "      <td>629.0</td>\n",
              "      <td>141.0</td>\n",
              "      <td>5131.0</td>\n",
              "      <td>814.0</td>\n",
              "      <td>229.0</td>\n",
              "      <td>3280</td>\n",
              "    </tr>\n",
              "    <tr>\n",
              "      <th>2</th>\n",
              "      <td>3038.0</td>\n",
              "      <td>385.0</td>\n",
              "      <td>1637.0</td>\n",
              "      <td>4496.0</td>\n",
              "      <td>969.0</td>\n",
              "      <td>1022.0</td>\n",
              "      <td>2649</td>\n",
              "    </tr>\n",
              "    <tr>\n",
              "      <th>3</th>\n",
              "      <td>1988.0</td>\n",
              "      <td>855.0</td>\n",
              "      <td>421.0</td>\n",
              "      <td>2228.0</td>\n",
              "      <td>1336.0</td>\n",
              "      <td>6042.0</td>\n",
              "      <td>411</td>\n",
              "    </tr>\n",
              "    <tr>\n",
              "      <th>4</th>\n",
              "      <td>1794.0</td>\n",
              "      <td>478.0</td>\n",
              "      <td>3267.0</td>\n",
              "      <td>3983.0</td>\n",
              "      <td>4712.0</td>\n",
              "      <td>734.0</td>\n",
              "      <td>1074</td>\n",
              "    </tr>\n",
              "  </tbody>\n",
              "</table>\n",
              "</div>\n",
              "      <button class=\"colab-df-convert\" onclick=\"convertToInteractive('df-bc2eff19-8704-4cc6-8a0c-e991e18c1914')\"\n",
              "              title=\"Convert this dataframe to an interactive table.\"\n",
              "              style=\"display:none;\">\n",
              "        \n",
              "  <svg xmlns=\"http://www.w3.org/2000/svg\" height=\"24px\"viewBox=\"0 0 24 24\"\n",
              "       width=\"24px\">\n",
              "    <path d=\"M0 0h24v24H0V0z\" fill=\"none\"/>\n",
              "    <path d=\"M18.56 5.44l.94 2.06.94-2.06 2.06-.94-2.06-.94-.94-2.06-.94 2.06-2.06.94zm-11 1L8.5 8.5l.94-2.06 2.06-.94-2.06-.94L8.5 2.5l-.94 2.06-2.06.94zm10 10l.94 2.06.94-2.06 2.06-.94-2.06-.94-.94-2.06-.94 2.06-2.06.94z\"/><path d=\"M17.41 7.96l-1.37-1.37c-.4-.4-.92-.59-1.43-.59-.52 0-1.04.2-1.43.59L10.3 9.45l-7.72 7.72c-.78.78-.78 2.05 0 2.83L4 21.41c.39.39.9.59 1.41.59.51 0 1.02-.2 1.41-.59l7.78-7.78 2.81-2.81c.8-.78.8-2.07 0-2.86zM5.41 20L4 18.59l7.72-7.72 1.47 1.35L5.41 20z\"/>\n",
              "  </svg>\n",
              "      </button>\n",
              "      \n",
              "  <style>\n",
              "    .colab-df-container {\n",
              "      display:flex;\n",
              "      flex-wrap:wrap;\n",
              "      gap: 12px;\n",
              "    }\n",
              "\n",
              "    .colab-df-convert {\n",
              "      background-color: #E8F0FE;\n",
              "      border: none;\n",
              "      border-radius: 50%;\n",
              "      cursor: pointer;\n",
              "      display: none;\n",
              "      fill: #1967D2;\n",
              "      height: 32px;\n",
              "      padding: 0 0 0 0;\n",
              "      width: 32px;\n",
              "    }\n",
              "\n",
              "    .colab-df-convert:hover {\n",
              "      background-color: #E2EBFA;\n",
              "      box-shadow: 0px 1px 2px rgba(60, 64, 67, 0.3), 0px 1px 3px 1px rgba(60, 64, 67, 0.15);\n",
              "      fill: #174EA6;\n",
              "    }\n",
              "\n",
              "    [theme=dark] .colab-df-convert {\n",
              "      background-color: #3B4455;\n",
              "      fill: #D2E3FC;\n",
              "    }\n",
              "\n",
              "    [theme=dark] .colab-df-convert:hover {\n",
              "      background-color: #434B5C;\n",
              "      box-shadow: 0px 1px 3px 1px rgba(0, 0, 0, 0.15);\n",
              "      filter: drop-shadow(0px 1px 2px rgba(0, 0, 0, 0.3));\n",
              "      fill: #FFFFFF;\n",
              "    }\n",
              "  </style>\n",
              "\n",
              "      <script>\n",
              "        const buttonEl =\n",
              "          document.querySelector('#df-bc2eff19-8704-4cc6-8a0c-e991e18c1914 button.colab-df-convert');\n",
              "        buttonEl.style.display =\n",
              "          google.colab.kernel.accessAllowed ? 'block' : 'none';\n",
              "\n",
              "        async function convertToInteractive(key) {\n",
              "          const element = document.querySelector('#df-bc2eff19-8704-4cc6-8a0c-e991e18c1914');\n",
              "          const dataTable =\n",
              "            await google.colab.kernel.invokeFunction('convertToInteractive',\n",
              "                                                     [key], {});\n",
              "          if (!dataTable) return;\n",
              "\n",
              "          const docLinkHtml = 'Like what you see? Visit the ' +\n",
              "            '<a target=\"_blank\" href=https://colab.research.google.com/notebooks/data_table.ipynb>data table notebook</a>'\n",
              "            + ' to learn more about interactive tables.';\n",
              "          element.innerHTML = '';\n",
              "          dataTable['output_type'] = 'display_data';\n",
              "          await google.colab.output.renderOutput(dataTable, element);\n",
              "          const docLink = document.createElement('div');\n",
              "          docLink.innerHTML = docLinkHtml;\n",
              "          element.appendChild(docLink);\n",
              "        }\n",
              "      </script>\n",
              "    </div>\n",
              "  </div>\n",
              "  "
            ]
          },
          "metadata": {},
          "execution_count": 35
        }
      ]
    },
    {
      "cell_type": "markdown",
      "source": [
        "## Melhores pagadores"
      ],
      "metadata": {
        "id": "gmHGKPrjJDQ2"
      }
    },
    {
      "cell_type": "code",
      "source": [
        "df.groupby('cluster')['PAGAMENTO_TOTAL'].describe()"
      ],
      "metadata": {
        "colab": {
          "base_uri": "https://localhost:8080/",
          "height": 238
        },
        "id": "PyLj5d5TI4A8",
        "outputId": "ec6fa3fc-c18f-4e60-8e64-5b7d97d57beb"
      },
      "execution_count": null,
      "outputs": [
        {
          "output_type": "execute_result",
          "data": {
            "text/plain": [
              "          count      mean       std  min  25%       50%       75%  max\n",
              "cluster                                                               \n",
              "0        1536.0  0.278331  0.367137  0.0  0.0  0.083333  0.545455  1.0\n",
              "1        3280.0  0.246806  0.346748  0.0  0.0  0.000000  0.444444  1.0\n",
              "2        2649.0  0.001799  0.023260  0.0  0.0  0.000000  0.000000  0.6\n",
              "3         411.0  0.019318  0.090901  0.0  0.0  0.000000  0.000000  1.0\n",
              "4        1074.0  0.117321  0.186720  0.0  0.0  0.083333  0.142857  1.0"
            ],
            "text/html": [
              "\n",
              "  <div id=\"df-60671fec-f9dd-4f2e-a4f5-1a673e30bbb7\">\n",
              "    <div class=\"colab-df-container\">\n",
              "      <div>\n",
              "<style scoped>\n",
              "    .dataframe tbody tr th:only-of-type {\n",
              "        vertical-align: middle;\n",
              "    }\n",
              "\n",
              "    .dataframe tbody tr th {\n",
              "        vertical-align: top;\n",
              "    }\n",
              "\n",
              "    .dataframe thead th {\n",
              "        text-align: right;\n",
              "    }\n",
              "</style>\n",
              "<table border=\"1\" class=\"dataframe\">\n",
              "  <thead>\n",
              "    <tr style=\"text-align: right;\">\n",
              "      <th></th>\n",
              "      <th>count</th>\n",
              "      <th>mean</th>\n",
              "      <th>std</th>\n",
              "      <th>min</th>\n",
              "      <th>25%</th>\n",
              "      <th>50%</th>\n",
              "      <th>75%</th>\n",
              "      <th>max</th>\n",
              "    </tr>\n",
              "    <tr>\n",
              "      <th>cluster</th>\n",
              "      <th></th>\n",
              "      <th></th>\n",
              "      <th></th>\n",
              "      <th></th>\n",
              "      <th></th>\n",
              "      <th></th>\n",
              "      <th></th>\n",
              "      <th></th>\n",
              "    </tr>\n",
              "  </thead>\n",
              "  <tbody>\n",
              "    <tr>\n",
              "      <th>0</th>\n",
              "      <td>1536.0</td>\n",
              "      <td>0.278331</td>\n",
              "      <td>0.367137</td>\n",
              "      <td>0.0</td>\n",
              "      <td>0.0</td>\n",
              "      <td>0.083333</td>\n",
              "      <td>0.545455</td>\n",
              "      <td>1.0</td>\n",
              "    </tr>\n",
              "    <tr>\n",
              "      <th>1</th>\n",
              "      <td>3280.0</td>\n",
              "      <td>0.246806</td>\n",
              "      <td>0.346748</td>\n",
              "      <td>0.0</td>\n",
              "      <td>0.0</td>\n",
              "      <td>0.000000</td>\n",
              "      <td>0.444444</td>\n",
              "      <td>1.0</td>\n",
              "    </tr>\n",
              "    <tr>\n",
              "      <th>2</th>\n",
              "      <td>2649.0</td>\n",
              "      <td>0.001799</td>\n",
              "      <td>0.023260</td>\n",
              "      <td>0.0</td>\n",
              "      <td>0.0</td>\n",
              "      <td>0.000000</td>\n",
              "      <td>0.000000</td>\n",
              "      <td>0.6</td>\n",
              "    </tr>\n",
              "    <tr>\n",
              "      <th>3</th>\n",
              "      <td>411.0</td>\n",
              "      <td>0.019318</td>\n",
              "      <td>0.090901</td>\n",
              "      <td>0.0</td>\n",
              "      <td>0.0</td>\n",
              "      <td>0.000000</td>\n",
              "      <td>0.000000</td>\n",
              "      <td>1.0</td>\n",
              "    </tr>\n",
              "    <tr>\n",
              "      <th>4</th>\n",
              "      <td>1074.0</td>\n",
              "      <td>0.117321</td>\n",
              "      <td>0.186720</td>\n",
              "      <td>0.0</td>\n",
              "      <td>0.0</td>\n",
              "      <td>0.083333</td>\n",
              "      <td>0.142857</td>\n",
              "      <td>1.0</td>\n",
              "    </tr>\n",
              "  </tbody>\n",
              "</table>\n",
              "</div>\n",
              "      <button class=\"colab-df-convert\" onclick=\"convertToInteractive('df-60671fec-f9dd-4f2e-a4f5-1a673e30bbb7')\"\n",
              "              title=\"Convert this dataframe to an interactive table.\"\n",
              "              style=\"display:none;\">\n",
              "        \n",
              "  <svg xmlns=\"http://www.w3.org/2000/svg\" height=\"24px\"viewBox=\"0 0 24 24\"\n",
              "       width=\"24px\">\n",
              "    <path d=\"M0 0h24v24H0V0z\" fill=\"none\"/>\n",
              "    <path d=\"M18.56 5.44l.94 2.06.94-2.06 2.06-.94-2.06-.94-.94-2.06-.94 2.06-2.06.94zm-11 1L8.5 8.5l.94-2.06 2.06-.94-2.06-.94L8.5 2.5l-.94 2.06-2.06.94zm10 10l.94 2.06.94-2.06 2.06-.94-2.06-.94-.94-2.06-.94 2.06-2.06.94z\"/><path d=\"M17.41 7.96l-1.37-1.37c-.4-.4-.92-.59-1.43-.59-.52 0-1.04.2-1.43.59L10.3 9.45l-7.72 7.72c-.78.78-.78 2.05 0 2.83L4 21.41c.39.39.9.59 1.41.59.51 0 1.02-.2 1.41-.59l7.78-7.78 2.81-2.81c.8-.78.8-2.07 0-2.86zM5.41 20L4 18.59l7.72-7.72 1.47 1.35L5.41 20z\"/>\n",
              "  </svg>\n",
              "      </button>\n",
              "      \n",
              "  <style>\n",
              "    .colab-df-container {\n",
              "      display:flex;\n",
              "      flex-wrap:wrap;\n",
              "      gap: 12px;\n",
              "    }\n",
              "\n",
              "    .colab-df-convert {\n",
              "      background-color: #E8F0FE;\n",
              "      border: none;\n",
              "      border-radius: 50%;\n",
              "      cursor: pointer;\n",
              "      display: none;\n",
              "      fill: #1967D2;\n",
              "      height: 32px;\n",
              "      padding: 0 0 0 0;\n",
              "      width: 32px;\n",
              "    }\n",
              "\n",
              "    .colab-df-convert:hover {\n",
              "      background-color: #E2EBFA;\n",
              "      box-shadow: 0px 1px 2px rgba(60, 64, 67, 0.3), 0px 1px 3px 1px rgba(60, 64, 67, 0.15);\n",
              "      fill: #174EA6;\n",
              "    }\n",
              "\n",
              "    [theme=dark] .colab-df-convert {\n",
              "      background-color: #3B4455;\n",
              "      fill: #D2E3FC;\n",
              "    }\n",
              "\n",
              "    [theme=dark] .colab-df-convert:hover {\n",
              "      background-color: #434B5C;\n",
              "      box-shadow: 0px 1px 3px 1px rgba(0, 0, 0, 0.15);\n",
              "      filter: drop-shadow(0px 1px 2px rgba(0, 0, 0, 0.3));\n",
              "      fill: #FFFFFF;\n",
              "    }\n",
              "  </style>\n",
              "\n",
              "      <script>\n",
              "        const buttonEl =\n",
              "          document.querySelector('#df-60671fec-f9dd-4f2e-a4f5-1a673e30bbb7 button.colab-df-convert');\n",
              "        buttonEl.style.display =\n",
              "          google.colab.kernel.accessAllowed ? 'block' : 'none';\n",
              "\n",
              "        async function convertToInteractive(key) {\n",
              "          const element = document.querySelector('#df-60671fec-f9dd-4f2e-a4f5-1a673e30bbb7');\n",
              "          const dataTable =\n",
              "            await google.colab.kernel.invokeFunction('convertToInteractive',\n",
              "                                                     [key], {});\n",
              "          if (!dataTable) return;\n",
              "\n",
              "          const docLinkHtml = 'Like what you see? Visit the ' +\n",
              "            '<a target=\"_blank\" href=https://colab.research.google.com/notebooks/data_table.ipynb>data table notebook</a>'\n",
              "            + ' to learn more about interactive tables.';\n",
              "          element.innerHTML = '';\n",
              "          dataTable['output_type'] = 'display_data';\n",
              "          await google.colab.output.renderOutput(dataTable, element);\n",
              "          const docLink = document.createElement('div');\n",
              "          docLink.innerHTML = docLinkHtml;\n",
              "          element.appendChild(docLink);\n",
              "        }\n",
              "      </script>\n",
              "    </div>\n",
              "  </div>\n",
              "  "
            ]
          },
          "metadata": {},
          "execution_count": 36
        }
      ]
    },
    {
      "cell_type": "code",
      "source": [
        "sns.barplot(x='cluster', y='PAGAMENTO_TOTAL', palette='GnBu_d', data = df)"
      ],
      "metadata": {
        "colab": {
          "base_uri": "https://localhost:8080/",
          "height": 296
        },
        "id": "HO3XGD0AJId0",
        "outputId": "d3138e4c-0140-4e9f-e0c5-7d0a615a3cd6"
      },
      "execution_count": null,
      "outputs": [
        {
          "output_type": "execute_result",
          "data": {
            "text/plain": [
              "<matplotlib.axes._subplots.AxesSubplot at 0x7f6f87237130>"
            ]
          },
          "metadata": {},
          "execution_count": 37
        },
        {
          "output_type": "display_data",
          "data": {
            "text/plain": [
              "<Figure size 432x288 with 1 Axes>"
            ],
            "image/png": "[encoded data removed]"
          },
          "metadata": {
            "needs_background": "light"
          }
        }
      ]
    }
  ]
}